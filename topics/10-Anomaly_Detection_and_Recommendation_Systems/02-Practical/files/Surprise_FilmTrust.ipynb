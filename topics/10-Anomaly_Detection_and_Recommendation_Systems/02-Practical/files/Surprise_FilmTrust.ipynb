{
  "cells": [
    {
      "cell_type": "markdown",
      "id": "34e36733",
      "metadata": {},
      "source": [
        "# Recommendation systems using Surprise library\n",
        "\n",
        "This notebook indicates how surprise can be used to generate recommendations given (user,item) ratings. In this case we use the FilmTrust data on movie ratings.\n",
        "\n",
        "It is based on https://blog.cambridgespark.com/tutorial-practical-introduction-to-recommender-systems-dbe22848392b\n",
        "\n",
        "The following cell shows the commands that should be run to install the necessary packages, using `conda`. See\n",
        "https://surprise.readthedocs.io/en/stable/getting_started.html:\n",
        "\n",
        "`conda install -c conda-forge scikit-surprise`\n",
        "\n",
        "`conda install -c anaconda joblib`"
      ]
    },
    {
      "cell_type": "markdown",
      "id": "7b5dd423",
      "metadata": {},
      "source": [
        "Need to get the data (a zip file) and to use just the ratings.txt file within it"
      ]
    },
    {
      "cell_type": "code",
      "execution_count": null,
      "id": "d862f78c",
      "metadata": {
        "lines_to_next_cell": 1,
        "tags": [
          "imports"
        ]
      },
      "outputs": [],
      "source": [
        "import surprise\n",
        "import pandas as pd\n",
        "import numpy as np\n",
        "import requests\n",
        "import io\n",
        "import os\n",
        "import zipfile"
      ]
    },
    {
      "cell_type": "markdown",
      "id": "f8941c7e",
      "metadata": {},
      "source": [
        "Download zip file from url if it has not been downloaded already\n",
        "See https://codereview.stackexchange.com/a/231221"
      ]
    },
    {
      "cell_type": "code",
      "execution_count": null,
      "id": "5f3e76d4",
      "metadata": {
        "tags": [
          "readData"
        ]
      },
      "outputs": [],
      "source": [
        "def download_zipfile(url, zipF):\n",
        "  if not os.path.isfile(zipF):\n",
        "    with open(zipF, 'wb') as out:\n",
        "      out.write(requests.get(url).content)\n",
        "\n",
        "\n",
        "def read_zipfile_item(zipF, fn):\n",
        "  with zipfile.ZipFile(zipF) as zip_file:\n",
        "    with zip_file.open(fn) as f:\n",
        "      return f.read().decode('utf8')\n",
        "\n",
        "url = 'https://guoguibing.github.io/librec/datasets/filmtrust.zip'\n",
        "zipF = 'data/filmtrust.zip'\n",
        "fn = 'ratings.txt'\n",
        "download_zipfile(url, zipF)\n",
        "# io.StringIO converts the stream into a file-like object, as expected by pd.read_table()\n",
        "ratings = pd.read_table(io.StringIO(read_zipfile_item(zipF, fn)), sep = ' ', names = ['uid', 'iid', 'rating'])\n",
        "print(ratings.head())"
      ]
    },
    {
      "cell_type": "code",
      "execution_count": null,
      "id": "cd424325",
      "metadata": {
        "incorrectly_encoded_metadata": "tags=[checkData]"
      },
      "outputs": [],
      "source": [
        "ratings.info()"
      ]
    },
    {
      "cell_type": "markdown",
      "id": "6b314a74",
      "metadata": {},
      "source": [
        "Need to check that the ratings have the expected range. Suprise defaults to [1,5] but filmtrust uses [0.5, 4] as seen below."
      ]
    },
    {
      "cell_type": "code",
      "execution_count": null,
      "id": "2db48713",
      "metadata": {
        "tags": [
          "ratingRange"
        ]
      },
      "outputs": [],
      "source": [
        "# Get the rating range\n",
        "lowest_rating = ratings['rating'].min()\n",
        "highest_rating = ratings['rating'].max()\n",
        "print('Ratings range from {0} to {1}'.format(lowest_rating, highest_rating))"
      ]
    },
    {
      "cell_type": "markdown",
      "id": "0e27e15e",
      "metadata": {},
      "source": [
        "Tell surprise about the rating_scale used by this data"
      ]
    },
    {
      "cell_type": "code",
      "execution_count": null,
      "id": "525f4b21",
      "metadata": {
        "tags": [
          "applyRatingRange"
        ]
      },
      "outputs": [],
      "source": [
        "reader = surprise.Reader(rating_scale=(lowest_rating, highest_rating))\n",
        "data = surprise.Dataset.load_from_df(ratings, reader)\n",
        "data"
      ]
    },
    {
      "cell_type": "markdown",
      "id": "a1ebc4ac",
      "metadata": {},
      "source": [
        "Now use the SVD-based recommender algorithm, treating all the data as the training set.\n",
        "Of course, it is generally much better to split into separate training and test sets."
      ]
    },
    {
      "cell_type": "code",
      "execution_count": null,
      "id": "4fab32fe",
      "metadata": {
        "tags": [
          "chooseSVD"
        ]
      },
      "outputs": [],
      "source": [
        "alg = surprise.SVD()\n",
        "output = alg.fit(data.build_full_trainset())\n",
        "output"
      ]
    },
    {
      "cell_type": "markdown",
      "id": "015efc19",
      "metadata": {},
      "source": [
        "Now check how well the recommender predicts when uid=1 and iid=4 (which is a known rating)"
      ]
    },
    {
      "cell_type": "code",
      "execution_count": null,
      "id": "5d734d71",
      "metadata": {
        "tags": [
          "getScore"
        ]
      },
      "outputs": [],
      "source": [
        "# The uids and iids need to be converted to strings for prediction\n",
        "pred = alg.predict(uid='1', iid='4')\n",
        "predScore = pred.est\n",
        "actualScore = ratings.query('uid == 1 & iid == 4').iloc[0]['rating']\n",
        "print('Actual score is {0} and predicted score (using SVD-based recommender algorithm) is {1}'.format(actualScore,predScore))"
      ]
    },
    {
      "cell_type": "markdown",
      "id": "c4e4c401",
      "metadata": {},
      "source": [
        "More practically, we would like to generate ratings for all movies that were not rated by a given user"
      ]
    },
    {
      "cell_type": "code",
      "execution_count": null,
      "id": "e3f88931",
      "metadata": {
        "tags": [
          "selectItems"
        ]
      },
      "outputs": [],
      "source": [
        "# Get a list of all movie ids\n",
        "iids = ratings['iid'].unique()\n",
        "# Get a list of iids that user '50' has rated\n",
        "iidsRankedByUid50 = ratings.loc[ratings['uid']==50, 'iid']\n",
        "# Remove the iids that user 50 has rated from all the list of movie ids\n",
        "# Note the use of numpy's set difference function\n",
        "iids_to_predict = np.setdiff1d(iids, iidsRankedByUid50)"
      ]
    },
    {
      "cell_type": "markdown",
      "id": "7cd473d9",
      "metadata": {},
      "source": [
        "We arbitrarly set the rating to -1 (standing in for 'unrated') for the iids to be predicted.\n",
        "We can then predict a batch of ratings together (in the testset)."
      ]
    },
    {
      "cell_type": "code",
      "execution_count": null,
      "id": "9b3b36f4",
      "metadata": {
        "tags": [
          "getPredictions"
        ]
      },
      "outputs": [],
      "source": [
        "testset = [[50, iid, -1] for iid in iids_to_predict]\n",
        "predictions = alg.test(testset)"
      ]
    },
    {
      "cell_type": "markdown",
      "id": "dc70e4a6",
      "metadata": {},
      "source": [
        "Now that we have the predicted ratings, we can pick one with the highest rating for recommendation purposes."
      ]
    },
    {
      "cell_type": "code",
      "execution_count": null,
      "id": "d51f2b5a",
      "metadata": {
        "tags": [
          "dispPredictions"
        ]
      },
      "outputs": [],
      "source": [
        "pred_ratings = np.array([pred.est for pred in predictions])\n",
        "# Find the index of the maximum predicted rating\n",
        "i_max = pred_ratings.argmax()\n",
        "# Use this to find the corresponding iid to recommend\n",
        "iid = iids_to_predict[i_max]\n",
        "print('Top item for user 50 has iid {0} with predicted rating {1}'.format(iid, pred_ratings[i_max]))"
      ]
    },
    {
      "cell_type": "code",
      "execution_count": null,
      "id": "6b1d8294",
      "metadata": {},
      "outputs": [],
      "source": [
        "# Exercise: Identify the top 5 items to suggest to this user.\n",
        "# You might find Numpy's argpartition function useful for this purpose."
      ]
    },
    {
      "cell_type": "code",
      "execution_count": null,
      "id": "d1dfc95f",
      "metadata": {},
      "outputs": [],
      "source": []
    }
  ],
  "metadata": {
    "kernelspec": {
      "display_name": "Python 3 (ipykernel)",
      "language": "python",
      "name": "python3"
    }
  },
  "nbformat": 4,
  "nbformat_minor": 5
}
