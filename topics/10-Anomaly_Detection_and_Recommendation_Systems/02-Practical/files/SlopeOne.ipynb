{
  "cells": [
    {
      "cell_type": "markdown",
      "id": "6786a899",
      "metadata": {
        "lines_to_next_cell": 2
      },
      "source": [
        "# Introduction to the _SlopeOne_ recommendation _algorithm_\n",
        "\n",
        "This notebook contains a worked example of the [SlopeOne algorithm](https://en.wikipedia.org/wiki/Slope_One).\n",
        "SlopeOne was developed and described by Daniel Lemire and Anna Maclachlan in 2005 (19 years ago...).\n",
        "\n",
        "## Slope One as one of \"the algorithms\"\n",
        "\n",
        "This algorithm attempts to _predict missing ratings_ and is commonly used in _recommender systems_.\n",
        "\n",
        "When non-specialists say that they were guided by \"the algorithms\" - they mean that they were\n",
        "led to content and views selected by their social media or streaming platform, based on\n",
        "\n",
        "a) their past choices and\n",
        "b) the corresponding choices made by other users.\n",
        "\n",
        "As such, recommendation algorithms like _SlopeOne_ play a very important role in monetising the \n",
        "web, making some posts go viral, and (possibly!) increasing the fragmentation of society....\n",
        "\n",
        "## Objective\n",
        "\n",
        "To show that _SlopeOne_ is not that complicated - it uses normal arithmetic operations (adding, subtracting,\n",
        "multiplying and dividing) - no complicated stuff like square roots or cosines, etc.\n",
        "\n",
        "## This notebook\n",
        "\n",
        "This notebook has descriptions and python code explaining how to\n",
        "\n",
        "1. Read an example ratings matrix\n",
        "2. Create a table of (averaged) ratings differences\n",
        "3. For each missing user-item rating, attempt to infer it from ratings already provided by the user, as well as the ratings difference table"
      ]
    },
    {
      "cell_type": "markdown",
      "id": "627a4cc3",
      "metadata": {},
      "source": [
        "## Step 1\n",
        "\n",
        "Import libraries of python software.\n",
        "\n",
        "These libraries provide useful function that we can call upon, without having to write those functions ourselves.\n",
        "\n",
        "The libraries are:\n",
        "\n",
        "- [pandas](https://pandas.pydata.org/) is used to perform data analysis on dataframes, etc.\n",
        "- [numpy](https://numpy.org/) is used to perform operations on arrays of numbers\n",
        "  "
      ]
    },
    {
      "cell_type": "code",
      "execution_count": null,
      "id": "c55ed074",
      "metadata": {
        "tags": [
          "imports"
        ]
      },
      "outputs": [],
      "source": [
        "import pandas as pd\n",
        "import numpy as np\n",
        "from IPython.display import display, HTML"
      ]
    },
    {
      "cell_type": "markdown",
      "id": "91d9f0bd",
      "metadata": {},
      "source": [
        "## Step 2\n",
        "\n",
        "Read the ratings data (stored in 'data/example.csv') into a dataframe.\n",
        "\n",
        "We use the `read_csv()` function provided by pandas so we can skip the messy details of how to read data into our program.\n",
        "\n",
        "Note that we use a comma (`,`) as a separator and we supply the names of the artists here too."
      ]
    },
    {
      "cell_type": "code",
      "execution_count": null,
      "id": "938acc53",
      "metadata": {
        "tags": [
          "readData"
        ]
      },
      "outputs": [],
      "source": [
        "ratings = pd.read_csv('data/example.csv', sep=',', names=['TS','LDR','TW','D'])\n",
        "print('The ratings, provided as input. Note that Alice has not rated `TW` or `D`. Here they are:')\n",
        "display(ratings)"
      ]
    },
    {
      "cell_type": "markdown",
      "id": "f96975ef",
      "metadata": {},
      "source": [
        "## Step 2 extra\n",
        "\n",
        "Note that there are 3 users rating 4 artists:"
      ]
    },
    {
      "cell_type": "code",
      "execution_count": null,
      "id": "40fa7486",
      "metadata": {
        "tags": [
          "showData"
        ]
      },
      "outputs": [],
      "source": [
        "[nUsers, nItems] = ratings.shape\n",
        "print('There are {} users and {} artists'.format(nUsers, nItems))"
      ]
    },
    {
      "cell_type": "markdown",
      "id": "972ba604",
      "metadata": {},
      "source": [
        "## Step 3 - introduction\n",
        "\n",
        "The ratings data contains star ratings on a 1 to 5 scale, where 1 star is a low mark, indicating the rater does not like the artist, and 5 stars indicate the rater is a huge fan of that artist.\n",
        "\n",
        "The 3 example users are named Alice, Bob and Carol (note the first letters of each name...).\n",
        "\n",
        "The 4 artists are Taylor Swift (TS), Lana Del Rey (LDR), The Weeknd (TW) and Drake (D).\n",
        "\n",
        "Note that Alice has not rated 'TW' (The Weeknd) or 'D' (Drake).\n",
        "\n",
        "However, she has rated 'TS' (Taylor Swift) and 'LDR' (Lana del Rey).\n",
        "\n",
        "Bob and Carol have rated all 4 artists.\n",
        "\n",
        "We wish to predict how Alice might rate 'TW' and 'D'.\n",
        "We would then recommend to Alice the artist she is predicted to rate higher than the other.\n",
        "\n",
        "We use the _Slope-One_ algorithm to predict the two missing ratings."
      ]
    },
    {
      "cell_type": "markdown",
      "id": "9a81cb21",
      "metadata": {},
      "source": [
        "\n",
        "## Stage 1: Preprocessing\n",
        "\n",
        "We need to compute the average difference between the ratings for each pair of artists.\n",
        "\n",
        "We first create a matrix with the right size.\n",
        "\n",
        "So we compute an `nItems` x `nItems` matrix of rating differences "
      ]
    },
    {
      "cell_type": "code",
      "execution_count": null,
      "id": "5623af43",
      "metadata": {
        "tags": [
          "createRD"
        ]
      },
      "outputs": [],
      "source": [
        "rd = np.zeros([nItems,nItems], dtype=float)"
      ]
    },
    {
      "cell_type": "markdown",
      "id": "cb0d8064",
      "metadata": {},
      "source": [
        "## Step 3\n",
        "\n",
        "Now loop over the indices to compute the differences\n",
        "\n",
        "Note that\n",
        "\n",
        "1. We loop over each item `i` (an artist in this case) and then over each item `j` for that item `i` (so that we look at _each pair of_ items).\n",
        " We say that the `j`-loop is _nested_ inside the `i`-loop.\n",
        "2. `ratings.iloc[:,k]` is panda's way of getting at the `k`th _column_ of the ratings matrix.\n",
        " - Q: How can we access the `k`th _row_ of the ratings matrix?\n",
        "3. `rI-rJ` is the difference between the ratings, where k>1 users have rated both item `i` and item `j`.\n",
        " - If there are k rating differences, we need to take the mean of those differences to find a single representative value for the rating difference between items (artists) `i` and `j`. \n",
        "4. After computing this rating difference, we store it in an `rd` matrix for later use.\n",
        " "
      ]
    },
    {
      "cell_type": "code",
      "execution_count": null,
      "id": "e78840d2",
      "metadata": {
        "tags": [
          "computeRD"
        ]
      },
      "outputs": [],
      "source": [
        "for i in range(nItems):\n",
        "  for j in range(nItems):\n",
        "    rI = ratings.iloc[:,i]\n",
        "    rJ = ratings.iloc[:,j]\n",
        "    rd[i,j] = (rI-rJ).mean()"
      ]
    },
    {
      "cell_type": "markdown",
      "id": "3672f0c4",
      "metadata": {},
      "source": [
        "## Step 3 - extra\n",
        "\n",
        "Note that the rating difference matrix `rd` is anti-symmetric:\n",
        "\n",
        "- values along the main diagonal are zero - each item has the same rating as itself\n",
        "- values across the diagonal have opposite signs:\n",
        "  the rating difference between item `i` and item `j` has the opposite sign of the rating\n",
        "  difference between item `j` and item `i`"
      ]
    },
    {
      "cell_type": "code",
      "execution_count": null,
      "id": "8b6a4767",
      "metadata": {
        "tags": [
          "showRD"
        ]
      },
      "outputs": [],
      "source": [
        "print('The matrix containing the difference in ratings between each pair of items is:')\n",
        "display(rd)"
      ]
    },
    {
      "cell_type": "markdown",
      "id": "a764a4da",
      "metadata": {},
      "source": [
        "## Step 4 - introduction\n",
        "\n",
        "Stage 2: predicting the missing ratings\n",
        "\n",
        "Remember: Alice has not rated either _The Weeknd_ (`TW`) or _Drake_ (`D`).\n",
        "Based on the ratings she has provided, and how others have rated these and other artists, we wish to predict how she might rate _The Weeknd_ and _Drake_.\n",
        "\n",
        "First, we make a copy of the ratings matrix, so we can compare the ratings before and after predicting the missing ones."
      ]
    },
    {
      "cell_type": "code",
      "execution_count": null,
      "id": "97fda6d8",
      "metadata": {
        "tags": [
          "copyRatings"
        ]
      },
      "outputs": [],
      "source": [
        "completedRatings = ratings.copy()"
      ]
    },
    {
      "cell_type": "markdown",
      "id": "cd68d6f6",
      "metadata": {},
      "source": [
        "## Step 4\n",
        "\n",
        "Now we start some more nested loops:\n",
        "\n",
        "1. First we look at each row (remember: each row contains the ratings given by a single user), so we look at each `userK` in turn.\n",
        "2. Next we look across that row for each missing rating.\n",
        "   - The rating by `userK` for `itemI` is missing if it is `NaN` (Not a Number). `np.isnan(x)` returns True if `x` is not a number.\n",
        "   - Note that we initialise `sum` and `count`, because we intend to accumulate data that we can use to predict this missing rating.\n",
        "3. Now we search for any ratings that _were_ provided in that row.\n",
        "   - Note that we flip the condition - this time we are looking for (`userK`,`itemJ`) ratings that _are_ numbers.\n",
        "   - We take the rating from `userK` for `itemJ` and add the ratings difference `rd[itemI,itemJ]` that we computed previously (during the preprocessing stage).\n",
        "   - This is a candidate rating prediction, but there may be others.\n",
        "   - As with the preprocessing stage, we will take the average of these estimates and use that as our best estimate of the missing rating.\n",
        "   - The only difference is that here we calculate the average ourselves....\n",
        "   - Remember: the average of a list of numbers is the sum of that list, divided by the count of numbers in that list.\n",
        "4. Note that we check that `count>0` before using it to calculate the predicted rating. Why do we do this?\n",
        "   - If count=0, what does this mean?"
      ]
    },
    {
      "cell_type": "code",
      "execution_count": null,
      "id": "04b031af",
      "metadata": {
        "tags": [
          "predictMissingRatings"
        ]
      },
      "outputs": [],
      "source": [
        "for userK in range(nUsers):\n",
        "  for itemI in range(nItems):\n",
        "    if (np.isnan(completedRatings.iloc[userK,itemI])):\n",
        "      sum = 0\n",
        "      count = 0\n",
        "      for itemJ in range(nItems):\n",
        "        if (not np.isnan(completedRatings.iloc[userK,itemJ])): \n",
        "          sum += completedRatings.iloc[userK,itemJ] + rd[itemI,itemJ]\n",
        "          count += 1\n",
        "      if count>0:\n",
        "        completedRatings.iloc[userK,itemI] = sum/count"
      ]
    },
    {
      "cell_type": "markdown",
      "id": "ccb87a61",
      "metadata": {},
      "source": [
        "## Step 4 - extra\n",
        "\n",
        "We can print the completedRatings matrix. You should be able to see that\n",
        "\n",
        "1. existing ratings are still the same\n",
        "2. missing ratings now have predicted values"
      ]
    },
    {
      "cell_type": "code",
      "execution_count": null,
      "id": "1e30fa5a",
      "metadata": {
        "tags": [
          "showCompletedRatings"
        ]
      },
      "outputs": [],
      "source": [
        "print('The completed ratings matrix is:')\n",
        "display(completedRatings)"
      ]
    },
    {
      "cell_type": "markdown",
      "id": "4451f4cb",
      "metadata": {},
      "source": [
        "## Some questions for you\n",
        "\n",
        "Q1: How might __the algorithm__ choose which Artist to recommend to Alice?\n",
        "\n",
        "Q2: In practice, there could be millions of users and thousands of artists. How would such large amounts of data\n",
        "\n",
        "- benefit, and/or\n",
        "- cause problems for\n",
        "\n",
        "SlopeOne?\n",
        "\n",
        "Q3: How could SlopeOne be used to generate recommendations even where users do not rate items?"
      ]
    }
  ],
  "metadata": {
    "kernelspec": {
      "display_name": "Python 3 (ipykernel)",
      "language": "python",
      "name": "python3"
    }
  },
  "nbformat": 4,
  "nbformat_minor": 5
}
