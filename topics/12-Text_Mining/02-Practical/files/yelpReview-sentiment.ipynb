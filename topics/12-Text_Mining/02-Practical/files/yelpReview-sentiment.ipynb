{
  "cells": [
    {
      "cell_type": "markdown",
      "id": "b5f22504",
      "metadata": {},
      "source": [
        "# Yelp review sentiment analysis\n",
        "\n",
        "Based on https://github.com/nicknochnack/BERTSentiment"
      ]
    },
    {
      "cell_type": "markdown",
      "id": "3e7fa19f",
      "metadata": {},
      "source": [
        "## 1. Install and Import Dependencies"
      ]
    },
    {
      "cell_type": "markdown",
      "id": "431b1d65",
      "metadata": {},
      "source": [
        "Need to install requests (for HTML), beautifulsoup (for scraping websites), pandas, numpy, (HuggingFace) transformers and pytorch"
      ]
    },
    {
      "cell_type": "code",
      "execution_count": null,
      "id": "eca7887a",
      "metadata": {
        "tags": [
          "imports"
        ]
      },
      "outputs": [],
      "source": [
        "from transformers import AutoTokenizer, AutoModelForSequenceClassification\n",
        "import torch\n",
        "import requests\n",
        "from bs4 import BeautifulSoup\n",
        "import re"
      ]
    },
    {
      "cell_type": "markdown",
      "id": "a18b66e9",
      "metadata": {},
      "source": [
        "## 2. Instantiate Model\n",
        "\n",
        "Create a tokenizer and a model, both based on the same BERT LLM model (trained on the same data corpus).\n",
        "\n",
        "See https://huggingface.co/docs/transformers/model_doc/auto for more inormation on the Auto tokenizers and models."
      ]
    },
    {
      "cell_type": "code",
      "execution_count": null,
      "id": "4ba6838f",
      "metadata": {
        "tags": [
          "initialiseTokenTransformer"
        ]
      },
      "outputs": [],
      "source": [
        "preModel = 'nlptown/bert-base-multilingual-uncased-sentiment'\n",
        "\n",
        "tokenizer = AutoTokenizer.from_pretrained(preModel)\n",
        "model = AutoModelForSequenceClassification.from_pretrained(preModel)"
      ]
    },
    {
      "cell_type": "markdown",
      "id": "127248ad",
      "metadata": {},
      "source": [
        "## 3. Encode and Calculate Sentiment\n",
        "\n",
        "Encode a review using the tokenizer, storing the tokens in a pytorch tensor"
      ]
    },
    {
      "cell_type": "code",
      "execution_count": null,
      "id": "64447fdc",
      "metadata": {
        "tags": [
          "tokeniseExample"
        ]
      },
      "outputs": [],
      "source": [
        "tokens = tokenizer.encode('The food was very good but the place was disappointing', return_tensors='pt')"
      ]
    },
    {
      "cell_type": "markdown",
      "id": "7579ac59",
      "metadata": {},
      "source": [
        "Now apply the BERT model to the resulting tokens."
      ]
    },
    {
      "cell_type": "code",
      "execution_count": null,
      "id": "9320a49e",
      "metadata": {
        "tags": [
          "applyModel"
        ]
      },
      "outputs": [],
      "source": [
        "result = model(tokens)"
      ]
    },
    {
      "cell_type": "markdown",
      "id": "d7e50c27",
      "metadata": {},
      "source": [
        "The result for each of the ratings is resturned in `logits`. The logit with the highest value is the preferred rating."
      ]
    },
    {
      "cell_type": "code",
      "execution_count": null,
      "id": "0ecf369c",
      "metadata": {
        "tags": [
          "showLogits"
        ]
      },
      "outputs": [],
      "source": [
        "result.logits"
      ]
    },
    {
      "cell_type": "markdown",
      "id": "bf43d059",
      "metadata": {},
      "source": [
        "Now return the rating, converting it from an index 0..4 to a rating in the range 1..5. Note that this rating was derived from the review comment, independently of the numeric rating chosen by the person writing the review."
      ]
    },
    {
      "cell_type": "code",
      "execution_count": null,
      "id": "1c249b0b",
      "metadata": {
        "tags": [
          "togitsToRating"
        ]
      },
      "outputs": [],
      "source": [
        "int(torch.argmax(result.logits))+1"
      ]
    },
    {
      "cell_type": "markdown",
      "id": "16c99d98",
      "metadata": {},
      "source": [
        "## 4. Collect Reviews\n",
        "\n"
      ]
    },
    {
      "cell_type": "code",
      "execution_count": null,
      "id": "c9c181ed",
      "metadata": {
        "tags": [
          "scrapeReviews"
        ]
      },
      "outputs": [],
      "source": [
        "url = 'https://www.yelp.com/biz/the-reg-waterford-waterford'\n",
        "r = requests.get(url)\n",
        "soup = BeautifulSoup(r.text, 'html.parser')\n",
        "regex = re.compile('.*comment.*')\n",
        "results = soup.find_all('p', {'class':regex})\n",
        "reviews = [result.text for result in results]\n",
        "reviews"
      ]
    },
    {
      "cell_type": "markdown",
      "id": "d05f0ba9",
      "metadata": {},
      "source": [
        "## 5. Load Reviews into DataFrame and Score"
      ]
    },
    {
      "cell_type": "code",
      "execution_count": null,
      "id": "1553e8e2",
      "metadata": {
        "tags": [
          "imports"
        ]
      },
      "outputs": [],
      "source": [
        "import numpy as np\n",
        "import pandas as pd"
      ]
    },
    {
      "cell_type": "code",
      "execution_count": null,
      "id": "084ec3b7",
      "metadata": {
        "tags": [
          "reviewsToDf"
        ]
      },
      "outputs": [],
      "source": [
        "df = pd.DataFrame(np.array(reviews), columns=['review'])"
      ]
    },
    {
      "cell_type": "code",
      "execution_count": null,
      "id": "39bfd893",
      "metadata": {
        "lines_to_next_cell": 1,
        "tags": [
          "pickReview"
        ]
      },
      "outputs": [],
      "source": [
        "reviewId = 3\n",
        "df['review'].iloc[reviewId]"
      ]
    },
    {
      "cell_type": "code",
      "execution_count": null,
      "id": "2c106e0e",
      "metadata": {
        "incorrectly_encoded_metadata": "tags=[score1Sentiment\"]"
      },
      "outputs": [],
      "source": [
        "def sentiment_score(review):\n",
        "    tokens = tokenizer.encode(review, return_tensors='pt')\n",
        "    result = model(tokens)\n",
        "    return int(torch.argmax(result.logits))+1\n",
        "\n",
        "sentiment_score(df['review'].iloc[reviewId])"
      ]
    },
    {
      "cell_type": "markdown",
      "id": "126be81c",
      "metadata": {},
      "source": [
        "Apply the sentiment model to score the reviews by predicting their sentiment rating."
      ]
    },
    {
      "cell_type": "code",
      "execution_count": null,
      "id": "986ce8cc",
      "metadata": {
        "tags": [
          "scoreAllSentiment"
        ]
      },
      "outputs": [],
      "source": [
        "df['sentiment'] = df['review'].apply(lambda x: sentiment_score(x[:512]))\n",
        "df"
      ]
    },
    {
      "cell_type": "markdown",
      "id": "2f6e3b03",
      "metadata": {},
      "source": [
        "If you look at the corresponding [review](https://www.yelp.com/biz/the-reg-waterford-waterford). you will see that the reviewer gave the place 3 stars, which is more positive than the rating derived by the sentiment model."
      ]
    }
  ],
  "metadata": {
    "kernelspec": {
      "display_name": "Python 3 (ipykernel)",
      "language": "python",
      "name": "python3"
    }
  },
  "nbformat": 4,
  "nbformat_minor": 5
}
