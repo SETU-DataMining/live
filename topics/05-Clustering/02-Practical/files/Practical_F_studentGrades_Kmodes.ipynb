{
  "cells": [
    {
      "cell_type": "markdown",
      "id": "a7b8074d",
      "metadata": {},
      "source": [
        "# Cluster students given their exam grades\n",
        "\n",
        "Based on [Worked student grades k-modes example](https://codinginfinite.com/k-modes-clustering-algorithm-with-numerical-example/) notebook,\n",
        "with help from this [Random Name generator](https://randomwordgenerator.com/name.php)."
      ]
    },
    {
      "cell_type": "markdown",
      "id": "c80fd19a",
      "metadata": {},
      "source": [
        "## Import the modules we need"
      ]
    },
    {
      "cell_type": "code",
      "execution_count": null,
      "id": "a6f0004c",
      "metadata": {
        "tags": [
          "imports"
        ]
      },
      "outputs": [],
      "source": [
        "from kmodes.kmodes import KModes\n",
        "import pandas as pd\n",
        "import numpy as np"
      ]
    },
    {
      "cell_type": "markdown",
      "id": "b6dfb288",
      "metadata": {},
      "source": [
        "## Read the data from `data/studentGrades.csv`"
      ]
    },
    {
      "cell_type": "code",
      "execution_count": null,
      "id": "afc388ef",
      "metadata": {
        "tags": [
          "readData"
        ]
      },
      "outputs": [],
      "source": [
        "df=pd.read_csv(\"data/studentGrades.csv\", index_col=[\"Student\"])\n",
        "display(df)"
      ]
    },
    {
      "cell_type": "markdown",
      "id": "26460748",
      "metadata": {},
      "source": [
        "## Configure the KModes model\n",
        "\n",
        "1. n_clusters = 3\n",
        "2. random_state = 42 (seed used by RNG to find initial centres and to resolve ties)\n",
        "3. n_init = 5 (rerun with 5 random starts, take the overall best)"
      ]
    },
    {
      "cell_type": "code",
      "execution_count": null,
      "id": "16f09ecb",
      "metadata": {
        "tags": [
          "configureKmodes"
        ]
      },
      "outputs": [],
      "source": [
        "model=KModes(n_clusters=3, random_state=42, n_init=4)"
      ]
    },
    {
      "cell_type": "markdown",
      "id": "c85a119a",
      "metadata": {},
      "source": [
        "## Fit the data and display the resulting \"centroids\""
      ]
    },
    {
      "cell_type": "code",
      "execution_count": null,
      "id": "1e1b6ff7",
      "metadata": {
        "tags": [
          "fitKmodes"
        ]
      },
      "outputs": [],
      "source": [
        "fittedModel=model.fit(df)\n",
        "print(\"Cluster centroids - archetypal student grades\")\n",
        "print(fittedModel.cluster_centroids_)"
      ]
    },
    {
      "cell_type": "markdown",
      "id": "c298aec6",
      "metadata": {},
      "source": [
        "## Show how data has been assigned to clusters, given the fitted \"centroids\""
      ]
    },
    {
      "cell_type": "code",
      "execution_count": null,
      "id": "91db2894",
      "metadata": {
        "tags": [
          "showClusterAssignment"
        ]
      },
      "outputs": [],
      "source": [
        "clusters = fittedModel.predict(df)\n",
        "df[\"ClusterID\"] = clusters\n",
        "print(\"Allocation of students to clusters\")\n",
        "display(df)"
      ]
    },
    {
      "cell_type": "markdown",
      "id": "206e50d9",
      "metadata": {},
      "source": [
        "## See how two new students would be assigned to these clusters, given their grades"
      ]
    },
    {
      "cell_type": "code",
      "execution_count": null,
      "id": "e8792072",
      "metadata": {
        "tags": [
          "showClusterAssignmentForNew"
        ]
      },
      "outputs": [],
      "source": [
        "unseenStudentGrades = [['A','B','A','C','B'], ['C','A','B','B','A']]\n",
        "clusters=fittedModel.predict(unseenStudentGrades)\n",
        "print(\"Allocation of new students to existing clusters\")\n",
        "print(clusters)"
      ]
    }
  ],
  "metadata": {},
  "nbformat": 4,
  "nbformat_minor": 5
}
