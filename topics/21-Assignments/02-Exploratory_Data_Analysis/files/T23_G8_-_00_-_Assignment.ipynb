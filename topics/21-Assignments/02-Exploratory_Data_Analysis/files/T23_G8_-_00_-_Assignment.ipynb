{
 "cells": [
  {
   "cell_type": "markdown",
   "metadata": {},
   "source": [
    "# T23_G8 - 00 - Assignment\n",
    "\n",
    "* Create assignment tree. \n",
    "* Download the required datafiles and documentation.\n",
    "* Generate a zip file of your assignment files to upload to Moodle.\n",
    "\n",
    "You should just run all cells to setup assignment tree at start of assignment and again at end of assignment to generate the archive to upload to [Moodle]() when done. (You have to do the uploading to Moodle yourself.)"
   ]
  },
  {
   "cell_type": "markdown",
   "metadata": {},
   "source": [
    "## Setup"
   ]
  },
  {
   "cell_type": "code",
   "execution_count": null,
   "metadata": {},
   "outputs": [],
   "source": [
    "import os\n",
    "import glob\n",
    "from zipfile import ZipFile"
   ]
  },
  {
   "cell_type": "markdown",
   "metadata": {},
   "source": [
    "## Assignment Setup"
   ]
  },
  {
   "cell_type": "code",
   "execution_count": null,
   "metadata": {},
   "outputs": [],
   "source": [
    "for d in ['orig/SPSS', 'orig/extra', 'orig/docs', 'data']: \n",
    "    os.makedirs(d, exist_ok=True)"
   ]
  },
  {
   "cell_type": "code",
   "execution_count": null,
   "metadata": {},
   "outputs": [],
   "source": [
    "FILES = [\n",
    "    ('orig', 'docs/T23_User_Guide_International_Database.pdf'),\n",
    "    ('orig', 'docs/T23_G8_Codebook.xlsx'),\n",
    "    ('orig', 'extra/TIMSS_2023_National_Report_Ireland.pdf'),\n",
    "    ('.', 'T23_G8_-_01_-_Import.ipynb'),\n",
    "] + [\n",
    "    ('orig', f'SPSS/{f}irlm8.sav') for f in ['bcg','bsa','bsg','bsp','bsr','bst','btm','bts']\n",
    "]"
   ]
  },
  {
   "cell_type": "code",
   "execution_count": null,
   "metadata": {},
   "outputs": [],
   "source": [
    "for dirname, filename in FILES:\n",
    "    source = f\"https://setu-datamining.github.io/live/resources/TIMSS/{filename}\"\n",
    "    target = f\"{dirname}/{filename}\"\n",
    "    if not os.path.isfile(target):\n",
    "        print (f\"Downloading remote file {filename}\", sep=\"\")\n",
    "        import urllib.request\n",
    "        urllib.request.urlretrieve(source, target)\n",
    "    else:\n",
    "        print(f\"Using local copy of {dirname}/{filename}\")\n"
   ]
  },
  {
   "cell_type": "markdown",
   "metadata": {},
   "source": [
    "## Deliverable"
   ]
  },
  {
   "cell_type": "code",
   "execution_count": null,
   "metadata": {},
   "outputs": [],
   "source": [
    "target = f'TIMSS_EDA.zip'\n",
    "\n",
    "FILES_TO_UPLOAD = [\n",
    "    *glob.iglob('T23_G8_-*.ipynb')\n",
    "] + [\n",
    "    # include any extra files you want to upload here\n",
    "]\n",
    "\n",
    "\n",
    "print(f\"Creating zip ... {target}\")\n",
    "\n",
    "with ZipFile(target,'w') as zip:\n",
    "    for file in FILES_TO_UPLOAD:\n",
    "        print(f\"\\tAdding file ... {file}\")\n",
    "        zip.write(file) \n",
    "\n",
    "print(\"Upload created zip file to Moodle\")"
   ]
  },
  {
   "cell_type": "code",
   "execution_count": null,
   "metadata": {},
   "outputs": [],
   "source": []
  }
 ],
 "metadata": {
  "kernelspec": {
   "display_name": "Python 3 (ipykernel)",
   "language": "python",
   "name": "python3"
  },
  "language_info": {
   "codemirror_mode": {
    "name": "ipython",
    "version": 3
   },
   "file_extension": ".py",
   "mimetype": "text/x-python",
   "name": "python",
   "nbconvert_exporter": "python",
   "pygments_lexer": "ipython3",
   "version": "3.12.8"
  }
 },
 "nbformat": 4,
 "nbformat_minor": 4
}
