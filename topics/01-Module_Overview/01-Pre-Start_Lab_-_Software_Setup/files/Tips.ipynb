{
 "cells": [
  {
   "cell_type": "code",
   "execution_count": null,
   "id": "da5bb60b",
   "metadata": {},
   "outputs": [],
   "source": [
    "import numpy as np\n",
    "import matplotlib.pyplot as plt\n",
    "import pandas as pd\n",
    "import seaborn as sns \n",
    "sns.set_style('darkgrid')"
   ]
  },
  {
   "cell_type": "code",
   "execution_count": null,
   "id": "0064e522",
   "metadata": {},
   "outputs": [],
   "source": [
    "df = sns.load_dataset(\"tips\")"
   ]
  },
  {
   "cell_type": "code",
   "execution_count": null,
   "id": "dbbe0de1",
   "metadata": {
    "tags": [
     "head"
    ]
   },
   "outputs": [],
   "source": [
    "df.head(10)"
   ]
  },
  {
   "cell_type": "code",
   "execution_count": null,
   "id": "94392e9b",
   "metadata": {
    "tags": [
     "dtypes"
    ]
   },
   "outputs": [],
   "source": [
    "df.dtypes"
   ]
  },
  {
   "cell_type": "code",
   "execution_count": null,
   "id": "628f262d",
   "metadata": {
    "tags": [
     "shape"
    ]
   },
   "outputs": [],
   "source": [
    "df.shape"
   ]
  },
  {
   "cell_type": "code",
   "execution_count": null,
   "id": "bc60ad35",
   "metadata": {
    "tags": [
     "nunique"
    ]
   },
   "outputs": [],
   "source": [
    "df.day.nunique()"
   ]
  },
  {
   "cell_type": "code",
   "execution_count": null,
   "id": "454f0c9e",
   "metadata": {
    "tags": [
     "value_counts"
    ]
   },
   "outputs": [],
   "source": [
    "df.day.value_counts()"
   ]
  },
  {
   "cell_type": "code",
   "execution_count": null,
   "id": "660e4363",
   "metadata": {
    "tags": [
     "describe"
    ]
   },
   "outputs": [],
   "source": [
    "df.day.describe()"
   ]
  },
  {
   "cell_type": "code",
   "execution_count": null,
   "id": "74fc85d0",
   "metadata": {
    "tags": [
     "pie"
    ]
   },
   "outputs": [],
   "source": [
    "df.day.value_counts().plot(kind='pie');"
   ]
  },
  {
   "cell_type": "code",
   "execution_count": null,
   "id": "e6574674",
   "metadata": {
    "tags": [
     "bar"
    ]
   },
   "outputs": [],
   "source": [
    "df.day.value_counts().plot(kind='bar')\n",
    "plt.xticks(rotation=0);"
   ]
  },
  {
   "cell_type": "code",
   "execution_count": null,
   "id": "fcfa6689",
   "metadata": {
    "tags": [
     "hist"
    ]
   },
   "outputs": [],
   "source": [
    "df.total_bill.plot(kind='hist');"
   ]
  },
  {
   "cell_type": "code",
   "execution_count": null,
   "id": "a43598d4",
   "metadata": {
    "tags": [
     "hist_bins"
    ]
   },
   "outputs": [],
   "source": [
    "fig, ax = plt.subplots(nrows=1,ncols=3, figsize=(12,2))\n",
    "for k, b in enumerate([5,20,50]):\n",
    "    df.total_bill.plot(kind='hist', bins=b, ax=ax[k]);\n",
    "    ax[k].set_title(f\"bins {b}\")"
   ]
  },
  {
   "cell_type": "code",
   "execution_count": null,
   "id": "85d68aad",
   "metadata": {
    "tags": [
     "boxplot"
    ]
   },
   "outputs": [],
   "source": [
    "df.total_bill.plot(kind='box', vert=False)\n",
    "plt.yticks(rotation=90);"
   ]
  },
  {
   "cell_type": "code",
   "execution_count": null,
   "id": "7fdad317",
   "metadata": {},
   "outputs": [],
   "source": []
  }
 ],
 "metadata": {
  "jupytext": {
   "formats": "ipynb,py:percent"
  },
  "kernelspec": {
   "display_name": "Python 3 (ipykernel)",
   "language": "python",
   "name": "python3"
  }
 },
 "nbformat": 4,
 "nbformat_minor": 5
}
